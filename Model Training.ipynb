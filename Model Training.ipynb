{
 "cells": [
  {
   "cell_type": "code",
   "execution_count": 8,
   "metadata": {},
   "outputs": [],
   "source": []
  },
  {
   "cell_type": "code",
   "execution_count": 15,
   "metadata": {
    "scrolled": true
   },
   "outputs": [
    {
     "name": "stdout",
     "output_type": "stream",
     "text": [
      "Requirement already satisfied: fire>=0.1.3 in c:\\users\\abewo\\anaconda3\\lib\\site-packages (from -r requirements.txt (line 1)) (0.4.0)\n",
      "Requirement already satisfied: regex==2017.4.5 in c:\\users\\abewo\\anaconda3\\lib\\site-packages (from -r requirements.txt (line 2)) (2017.4.5)\n",
      "Requirement already satisfied: requests==2.21.0 in c:\\users\\abewo\\anaconda3\\lib\\site-packages (from -r requirements.txt (line 3)) (2.21.0)\n",
      "Requirement already satisfied: tqdm==4.31.1 in c:\\users\\abewo\\anaconda3\\lib\\site-packages (from -r requirements.txt (line 4)) (4.31.1)\n",
      "Requirement already satisfied: certifi>=2017.4.17 in c:\\users\\abewo\\anaconda3\\lib\\site-packages (from requests==2.21.0->-r requirements.txt (line 3)) (2018.10.15)\n",
      "Requirement already satisfied: urllib3<1.25,>=1.21.1 in c:\\users\\abewo\\anaconda3\\lib\\site-packages (from requests==2.21.0->-r requirements.txt (line 3)) (1.24.3)\n",
      "Requirement already satisfied: chardet<3.1.0,>=3.0.2 in c:\\users\\abewo\\anaconda3\\lib\\site-packages (from requests==2.21.0->-r requirements.txt (line 3)) (3.0.4)\n",
      "Requirement already satisfied: idna<2.9,>=2.5 in c:\\users\\abewo\\anaconda3\\lib\\site-packages (from requests==2.21.0->-r requirements.txt (line 3)) (2.7)\n",
      "Requirement already satisfied: six in c:\\users\\abewo\\anaconda3\\lib\\site-packages (from fire>=0.1.3->-r requirements.txt (line 1)) (1.14.0)\n",
      "Requirement already satisfied: termcolor in c:\\users\\abewo\\anaconda3\\lib\\site-packages (from fire>=0.1.3->-r requirements.txt (line 1)) (1.1.0)\n"
     ]
    }
   ],
   "source": [
    "# start in correct directory\n",
    "%cd C:\\Users\\abewo\\Documents\\GitHub\\shelGPT-2\n",
    "# install required modules\n",
    "!pip install -r \"requirements.txt\""
   ]
  },
  {
   "cell_type": "code",
   "execution_count": 16,
   "metadata": {},
   "outputs": [
    {
     "name": "stderr",
     "output_type": "stream",
     "text": [
      "Fetching checkpoint: 1.00kit [00:00, 248kit/s]                                                      \n",
      "Fetching encoder.json: 1.04Mit [00:00, 4.23Mit/s]                                                   \n",
      "Fetching hparams.json: 1.00kit [00:00, 250kit/s]                                                    \n",
      "Fetching model.ckpt.data-00000-of-00001: 1.42Git [01:44, 13.6Mit/s]                                 \n",
      "Fetching model.ckpt.index: 11.0kit [00:00, 2.20Mit/s]                                               \n",
      "Fetching model.ckpt.meta: 927kit [00:00, 4.98Mit/s]                                                 \n",
      "Fetching vocab.bpe: 457kit [00:00, 3.47Mit/s]                                                       \n"
     ]
    }
   ],
   "source": [
    "# download the 345M model\n",
    "%run download_model.py 345M"
   ]
  },
  {
   "cell_type": "code",
   "execution_count": 17,
   "metadata": {},
   "outputs": [
    {
     "name": "stdout",
     "output_type": "stream",
     "text": [
      "C:\\Users\\abewo\\Documents\\GitHub\\shelGPT-2\\src\n"
     ]
    }
   ],
   "source": [
    "%cd C:\\Users\\abewo\\Documents\\GitHub\\shelGPT-2\\src"
   ]
  },
  {
   "cell_type": "code",
   "execution_count": null,
   "metadata": {},
   "outputs": [],
   "source": [
    "import sys\n",
    "import os\n",
    "\n",
    "new_path = 'C:\\Users\\abewo\\anaconda3\\Lib\\site-packages'\n",
    "sys.path.append(new_path)"
   ]
  },
  {
   "cell_type": "code",
   "execution_count": 24,
   "metadata": {},
   "outputs": [
    {
     "name": "stderr",
     "output_type": "stream",
     "text": [
      "UsageError: %%python is a cell magic, but the cell body is empty.\n"
     ]
    }
   ],
   "source": [
    "%%python encode.py training_data.txt training_data.npz"
   ]
  },
  {
   "cell_type": "code",
   "execution_count": 25,
   "metadata": {},
   "outputs": [
    {
     "name": "stdout",
     "output_type": "stream",
     "text": [
      "C:\\Users\\abewo\n"
     ]
    }
   ],
   "source": [
    "cd"
   ]
  },
  {
   "cell_type": "code",
   "execution_count": null,
   "metadata": {},
   "outputs": [],
   "source": []
  }
 ],
 "metadata": {
  "kernelspec": {
   "display_name": "Python 3",
   "language": "python",
   "name": "python3"
  },
  "language_info": {
   "codemirror_mode": {
    "name": "ipython",
    "version": 3
   },
   "file_extension": ".py",
   "mimetype": "text/x-python",
   "name": "python",
   "nbconvert_exporter": "python",
   "pygments_lexer": "ipython3",
   "version": "3.7.6"
  }
 },
 "nbformat": 4,
 "nbformat_minor": 4
}
