{
 "cells": [
  {
   "cell_type": "code",
   "execution_count": 3,
   "metadata": {},
   "outputs": [],
   "source": [
    "# retrieve api key\n",
    "import config"
   ]
  },
  {
   "cell_type": "code",
   "execution_count": 9,
   "metadata": {},
   "outputs": [
    {
     "name": "stdout",
     "output_type": "stream",
     "text": [
      "Requirement already satisfied: openai==0.2.4 in c:\\users\\abewo\\anaconda3\\lib\\site-packages (0.2.4)\n",
      "Requirement already satisfied: requests>=2.20 in c:\\users\\abewo\\anaconda3\\lib\\site-packages (from openai==0.2.4) (2.21.0)\n",
      "Requirement already satisfied: chardet<3.1.0,>=3.0.2 in c:\\users\\abewo\\anaconda3\\lib\\site-packages (from requests>=2.20->openai==0.2.4) (3.0.4)\n",
      "Requirement already satisfied: urllib3<1.25,>=1.21.1 in c:\\users\\abewo\\anaconda3\\lib\\site-packages (from requests>=2.20->openai==0.2.4) (1.24.3)\n",
      "Requirement already satisfied: idna<2.9,>=2.5 in c:\\users\\abewo\\anaconda3\\lib\\site-packages (from requests>=2.20->openai==0.2.4) (2.7)\n",
      "Requirement already satisfied: certifi>=2017.4.17 in c:\\users\\abewo\\anaconda3\\lib\\site-packages (from requests>=2.20->openai==0.2.4) (2018.10.15)\n"
     ]
    }
   ],
   "source": [
    "!pip install openai==0.2.4\n",
    "\n",
    "import openai"
   ]
  },
  {
   "cell_type": "code",
   "execution_count": 12,
   "metadata": {},
   "outputs": [
    {
     "name": "stdout",
     "output_type": "stream",
     "text": [
      "The baby bat Screamed out in fright, 'Turn on the dark, I'm afraid of the light.'\n",
      "\n",
      "The little bat, he said, 'You're such a little fool, The sun's not so bad at all.\n",
      "\n",
      "It gives you warmth through the bright day, It gives you moonlight at night.\n",
      "\n",
      "It shows you a world full of beauty, It shows you a world full of fright.\n",
      "\n",
      "The sun is not a bad friend, You'll soon find out that it's true. '\n",
      "\n",
      "But the baby bat Screamed out in fright, 'Turn on the dark, I'm afraid of the light.'\n",
      "\n",
      "The little bat, he said, 'You're such a little fool, The sun's not so bad at all.\n",
      "\n",
      "It gives you warmth through the bright day, It gives you moonlight at night.\n",
      "\n",
      "It shows you a world full of beauty, It shows you a world full of fright.\n",
      "\n",
      "The sun is not a bad friend, You'll soon find out that it's true. '\n",
      "\n",
      "But the baby bat Screamed out in fright, 'Turn on the dark, I'm afraid of the light.'\n",
      "\n",
      "The little bat, he said, 'You're such a little fool, The sun's not so bad at all.\n",
      "\n",
      "It gives you warmth through the\n"
     ]
    }
   ],
   "source": [
    "openai.api_key = config.api_key\n",
    "prompt_text = \"The baby bat Screamed out in fright, 'Turn on the dark, I'm afraid of the light.'\"\n",
    "\n",
    "response = openai.Completion.create(\n",
    "    engine=\"davinci\",\n",
    "    prompt=prompt_text,\n",
    "    temperature=0.7,\n",
    "    max_tokens=256)\n",
    "\n",
    "print(prompt_text + response['choices'][0]['text'])"
   ]
  },
  {
   "cell_type": "code",
   "execution_count": 14,
   "metadata": {},
   "outputs": [
    {
     "name": "stdout",
     "output_type": "stream",
     "text": [
      "There's a polar bear\\In our Frigidaire-\\He likes it 'cause it's cold in there.        With his seat in the meat\\And his face in the fish\\And his big hairy paws        In the buttery dish,\\He's nibbling the noodles,\\He's munching the rice,        He's slurping the soda,\\He's licking the ice.\\And he lets out a roar        If you open the door.\\And it gives me a scare\\To know he's in there--        That polary bear\\In our Fridgitydaire.        What would we do if he\\Wouldn't get out?\\What would we do?\\He'd eat us all up.        He'd eat us all up\\And leave nothing round\\But our heads in the ground.        If he was in your house\\What would you do?\\What would you do?        You'd rush out of the door\\And lock up your cat.        He hasn't an ear for a\\Cat's call,\\For he's a great big brown bear.        You'd get right up on the top\\Of your roof and you'd scream,\\And you'd wave your arms around.        And he'd look down at you\\And he'd answer you,        \"I'm eating some cake!\\I'm eating some cake!        I'm eating some cake\\And I haven't a care!        I'm eating some cake\\And I'm getting rather fat!      \n"
     ]
    }
   ],
   "source": [
    "openai.api_key = config.api_key\n",
    "prompt_text = \"There's a polar bear\\In our Frigidaire-\\He likes it 'cause it's cold in there.\\\n",
    "        With his seat in the meat\\And his face in the fish\\And his big hairy paws\\\n",
    "        In the buttery dish,\\He's nibbling the noodles,\\He's munching the rice,\\\n",
    "        He's slurping the soda,\\He's licking the ice.\\And he lets out a roar\\\n",
    "        If you open the door.\\And it gives me a scare\\To know he's in there--\\\n",
    "        That polary bear\\In our Fridgitydaire.\"\n",
    "\n",
    "response = openai.Completion.create(\n",
    "    engine=\"davinci\",\n",
    "    prompt=prompt_text,\n",
    "    temperature=0.7,\n",
    "    max_tokens=256)\n",
    "\n",
    "print(prompt_text + response['choices'][0]['text'])"
   ]
  },
  {
   "cell_type": "code",
   "execution_count": null,
   "metadata": {},
   "outputs": [],
   "source": []
  }
 ],
 "metadata": {
  "kernelspec": {
   "display_name": "Python 3",
   "language": "python",
   "name": "python3"
  },
  "language_info": {
   "codemirror_mode": {
    "name": "ipython",
    "version": 3
   },
   "file_extension": ".py",
   "mimetype": "text/x-python",
   "name": "python",
   "nbconvert_exporter": "python",
   "pygments_lexer": "ipython3",
   "version": "3.7.6"
  }
 },
 "nbformat": 4,
 "nbformat_minor": 4
}
