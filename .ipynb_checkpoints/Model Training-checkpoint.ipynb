{
 "cells": [
  {
   "cell_type": "code",
   "execution_count": null,
   "metadata": {},
   "outputs": [],
   "source": [
    "import sys\n",
    "import os"
   ]
  },
  {
   "cell_type": "code",
   "execution_count": null,
   "metadata": {},
   "outputs": [],
   "source": [
    "# start in correct directory\n",
    "cd C:\\Users\\abewo\\Documents\\GitHub\\shelGPT-2"
   ]
  },
  {
   "cell_type": "code",
   "execution_count": 15,
   "metadata": {},
   "outputs": [
    {
     "name": "stdout",
     "output_type": "stream",
     "text": [
      "Requirement already satisfied: fire>=0.1.3 in c:\\users\\abewo\\anaconda3\\lib\\site-packages (from -r requirements.txt (line 1)) (0.4.0)\n",
      "Requirement already satisfied: regex==2017.4.5 in c:\\users\\abewo\\anaconda3\\lib\\site-packages (from -r requirements.txt (line 2)) (2017.4.5)\n",
      "Requirement already satisfied: requests==2.21.0 in c:\\users\\abewo\\anaconda3\\lib\\site-packages (from -r requirements.txt (line 3)) (2.21.0)\n",
      "Requirement already satisfied: tqdm==4.31.1 in c:\\users\\abewo\\anaconda3\\lib\\site-packages (from -r requirements.txt (line 4)) (4.31.1)\n",
      "Requirement already satisfied: certifi>=2017.4.17 in c:\\users\\abewo\\anaconda3\\lib\\site-packages (from requests==2.21.0->-r requirements.txt (line 3)) (2018.10.15)\n",
      "Requirement already satisfied: idna<2.9,>=2.5 in c:\\users\\abewo\\anaconda3\\lib\\site-packages (from requests==2.21.0->-r requirements.txt (line 3)) (2.7)\n",
      "Requirement already satisfied: chardet<3.1.0,>=3.0.2 in c:\\users\\abewo\\anaconda3\\lib\\site-packages (from requests==2.21.0->-r requirements.txt (line 3)) (3.0.4)\n",
      "Requirement already satisfied: urllib3<1.25,>=1.21.1 in c:\\users\\abewo\\anaconda3\\lib\\site-packages (from requests==2.21.0->-r requirements.txt (line 3)) (1.24.3)\n",
      "Requirement already satisfied: termcolor in c:\\users\\abewo\\anaconda3\\lib\\site-packages (from fire>=0.1.3->-r requirements.txt (line 1)) (1.1.0)\n",
      "Requirement already satisfied: six in c:\\users\\abewo\\anaconda3\\lib\\site-packages (from fire>=0.1.3->-r requirements.txt (line 1)) (1.14.0)\n"
     ]
    }
   ],
   "source": [
    "# install required modules\n",
    "!pip install -r \"requirements.txt\""
   ]
  },
  {
   "cell_type": "code",
   "execution_count": null,
   "metadata": {},
   "outputs": [],
   "source": [
    "# download the model\n",
    "%%python download_model.py 345M"
   ]
  },
  {
   "cell_type": "code",
   "execution_count": 14,
   "metadata": {},
   "outputs": [
    {
     "name": "stdout",
     "output_type": "stream",
     "text": [
      "C:\\Users\\abewo\\Documents\\GitHub\\shelGPT-2\n"
     ]
    }
   ],
   "source": [
    "python encode.py training_data.txt "
   ]
  },
  {
   "cell_type": "code",
   "execution_count": null,
   "metadata": {},
   "outputs": [],
   "source": []
  }
 ],
 "metadata": {
  "kernelspec": {
   "display_name": "Python 3",
   "language": "python",
   "name": "python3"
  },
  "language_info": {
   "codemirror_mode": {
    "name": "ipython",
    "version": 3
   },
   "file_extension": ".py",
   "mimetype": "text/x-python",
   "name": "python",
   "nbconvert_exporter": "python",
   "pygments_lexer": "ipython3",
   "version": "3.7.6"
  }
 },
 "nbformat": 4,
 "nbformat_minor": 4
}
