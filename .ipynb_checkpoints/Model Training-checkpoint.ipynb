{
 "cells": [
  {
   "cell_type": "code",
   "execution_count": 15,
   "metadata": {
    "scrolled": true
   },
   "outputs": [
    {
     "name": "stdout",
     "output_type": "stream",
     "text": [
      "Requirement already satisfied: fire>=0.1.3 in c:\\users\\abewo\\anaconda3\\lib\\site-packages (from -r requirements.txt (line 1)) (0.4.0)\n",
      "Requirement already satisfied: regex==2017.4.5 in c:\\users\\abewo\\anaconda3\\lib\\site-packages (from -r requirements.txt (line 2)) (2017.4.5)\n",
      "Requirement already satisfied: requests==2.21.0 in c:\\users\\abewo\\anaconda3\\lib\\site-packages (from -r requirements.txt (line 3)) (2.21.0)\n",
      "Requirement already satisfied: tqdm==4.31.1 in c:\\users\\abewo\\anaconda3\\lib\\site-packages (from -r requirements.txt (line 4)) (4.31.1)\n",
      "Requirement already satisfied: certifi>=2017.4.17 in c:\\users\\abewo\\anaconda3\\lib\\site-packages (from requests==2.21.0->-r requirements.txt (line 3)) (2018.10.15)\n",
      "Requirement already satisfied: urllib3<1.25,>=1.21.1 in c:\\users\\abewo\\anaconda3\\lib\\site-packages (from requests==2.21.0->-r requirements.txt (line 3)) (1.24.3)\n",
      "Requirement already satisfied: chardet<3.1.0,>=3.0.2 in c:\\users\\abewo\\anaconda3\\lib\\site-packages (from requests==2.21.0->-r requirements.txt (line 3)) (3.0.4)\n",
      "Requirement already satisfied: idna<2.9,>=2.5 in c:\\users\\abewo\\anaconda3\\lib\\site-packages (from requests==2.21.0->-r requirements.txt (line 3)) (2.7)\n",
      "Requirement already satisfied: six in c:\\users\\abewo\\anaconda3\\lib\\site-packages (from fire>=0.1.3->-r requirements.txt (line 1)) (1.14.0)\n",
      "Requirement already satisfied: termcolor in c:\\users\\abewo\\anaconda3\\lib\\site-packages (from fire>=0.1.3->-r requirements.txt (line 1)) (1.1.0)\n"
     ]
    }
   ],
   "source": [
    "# start in correct directory\n",
    "%cd C:\\Users\\abewo\\Documents\\GitHub\\shelGPT-2\n",
    "# install required modules\n",
    "!pip install -r \"requirements.txt\""
   ]
  },
  {
   "cell_type": "code",
   "execution_count": 44,
   "metadata": {},
   "outputs": [
    {
     "name": "stderr",
     "output_type": "stream",
     "text": [
      "Fetching checkpoint: 1.00kit [00:00, 167kit/s]                                                      \n",
      "Fetching encoder.json: 1.04Mit [00:00, 13.2Mit/s]                                                   \n",
      "Fetching hparams.json: 1.00kit [00:00, 55.5kit/s]                                                   \n",
      "Fetching model.ckpt.data-00000-of-00001: 1.42Git [01:43, 13.7Mit/s]                                 \n",
      "Fetching model.ckpt.index: 11.0kit [00:00, 1.37Mit/s]                                               \n",
      "Fetching model.ckpt.meta: 927kit [00:00, 11.7Mit/s]                                                 \n",
      "Fetching vocab.bpe: 457kit [00:00, 8.83Mit/s]                                                       \n"
     ]
    }
   ],
   "source": [
    "# download the 345M model\n",
    "%run download_model.py 345M"
   ]
  },
  {
   "cell_type": "code",
   "execution_count": 28,
   "metadata": {},
   "outputs": [
    {
     "name": "stdout",
     "output_type": "stream",
     "text": [
      "C:\\Users\\abewo\\Documents\\GitHub\\shelGPT-2\n"
     ]
    }
   ],
   "source": [
    "%cd C:\\Users\\abewo\\Documents\\GitHub\\shelGPT-2"
   ]
  },
  {
   "cell_type": "code",
   "execution_count": 35,
   "metadata": {},
   "outputs": [
    {
     "name": "stdout",
     "output_type": "stream",
     "text": [
      "Collecting tensorflow==1.15\n",
      "  Downloading tensorflow-1.15.0-cp37-cp37m-win_amd64.whl (295.1 MB)\n",
      "Requirement already satisfied: astor>=0.6.0 in c:\\users\\abewo\\anaconda3\\lib\\site-packages (from tensorflow==1.15) (0.8.1)\n",
      "Requirement already satisfied: gast==0.2.2 in c:\\users\\abewo\\anaconda3\\lib\\site-packages (from tensorflow==1.15) (0.2.2)\n",
      "Requirement already satisfied: keras-applications>=1.0.8 in c:\\users\\abewo\\anaconda3\\lib\\site-packages (from tensorflow==1.15) (1.0.8)\n",
      "Requirement already satisfied: numpy<2.0,>=1.16.0 in c:\\users\\abewo\\anaconda3\\lib\\site-packages (from tensorflow==1.15) (1.18.1)\n",
      "Requirement already satisfied: termcolor>=1.1.0 in c:\\users\\abewo\\anaconda3\\lib\\site-packages (from tensorflow==1.15) (1.1.0)\n",
      "Requirement already satisfied: wheel>=0.26 in c:\\users\\abewo\\anaconda3\\lib\\site-packages (from tensorflow==1.15) (0.34.2)\n",
      "Requirement already satisfied: wrapt>=1.11.1 in c:\\users\\abewo\\anaconda3\\lib\\site-packages (from tensorflow==1.15) (1.11.2)\n",
      "Requirement already satisfied: keras-preprocessing>=1.0.5 in c:\\users\\abewo\\anaconda3\\lib\\site-packages (from tensorflow==1.15) (1.1.2)\n",
      "Requirement already satisfied: absl-py>=0.7.0 in c:\\users\\abewo\\anaconda3\\lib\\site-packages (from tensorflow==1.15) (0.10.0)\n",
      "Requirement already satisfied: google-pasta>=0.1.6 in c:\\users\\abewo\\anaconda3\\lib\\site-packages (from tensorflow==1.15) (0.2.0)\n",
      "Collecting tensorflow-estimator==1.15.1\n",
      "  Using cached tensorflow_estimator-1.15.1-py2.py3-none-any.whl (503 kB)\n",
      "Collecting tensorboard<1.16.0,>=1.15.0\n",
      "  Using cached tensorboard-1.15.0-py3-none-any.whl (3.8 MB)\n",
      "Requirement already satisfied: protobuf>=3.6.1 in c:\\users\\abewo\\anaconda3\\lib\\site-packages (from tensorflow==1.15) (3.13.0)\n",
      "Requirement already satisfied: opt-einsum>=2.3.2 in c:\\users\\abewo\\anaconda3\\lib\\site-packages (from tensorflow==1.15) (3.3.0)\n",
      "Requirement already satisfied: six>=1.10.0 in c:\\users\\abewo\\anaconda3\\lib\\site-packages (from tensorflow==1.15) (1.14.0)\n",
      "Requirement already satisfied: grpcio>=1.8.6 in c:\\users\\abewo\\anaconda3\\lib\\site-packages (from tensorflow==1.15) (1.32.0)\n",
      "Requirement already satisfied: h5py in c:\\users\\abewo\\anaconda3\\lib\\site-packages (from keras-applications>=1.0.8->tensorflow==1.15) (2.10.0)\n",
      "Requirement already satisfied: setuptools in c:\\users\\abewo\\anaconda3\\lib\\site-packages (from protobuf>=3.6.1->tensorflow==1.15) (45.2.0.post20200210)\n",
      "Requirement already satisfied: werkzeug>=0.11.15 in c:\\users\\abewo\\anaconda3\\lib\\site-packages (from tensorboard<1.16.0,>=1.15.0->tensorflow==1.15) (1.0.0)\n",
      "Requirement already satisfied: markdown>=2.6.8 in c:\\users\\abewo\\anaconda3\\lib\\site-packages (from tensorboard<1.16.0,>=1.15.0->tensorflow==1.15) (3.3.2)\n",
      "Requirement already satisfied: importlib-metadata in c:\\users\\abewo\\anaconda3\\lib\\site-packages (from markdown>=2.6.8->tensorboard<1.16.0,>=1.15.0->tensorflow==1.15) (1.5.0)\n",
      "Requirement already satisfied: zipp>=0.5 in c:\\users\\abewo\\anaconda3\\lib\\site-packages (from importlib-metadata->markdown>=2.6.8->tensorboard<1.16.0,>=1.15.0->tensorflow==1.15) (2.2.0)\n",
      "Installing collected packages: tensorflow-estimator, tensorboard, tensorflow\n",
      "  Attempting uninstall: tensorflow-estimator\n",
      "    Found existing installation: tensorflow-estimator 1.14.0\n",
      "    Uninstalling tensorflow-estimator-1.14.0:\n",
      "      Successfully uninstalled tensorflow-estimator-1.14.0\n",
      "  Attempting uninstall: tensorboard\n",
      "    Found existing installation: tensorboard 1.14.0\n",
      "    Uninstalling tensorboard-1.14.0:\n",
      "      Successfully uninstalled tensorboard-1.14.0\n",
      "  Attempting uninstall: tensorflow\n",
      "    Found existing installation: tensorflow 1.14.0\n",
      "    Uninstalling tensorflow-1.14.0:\n",
      "      Successfully uninstalled tensorflow-1.14.0\n",
      "Successfully installed tensorboard-1.15.0 tensorflow-1.15.0 tensorflow-estimator-1.15.1\n"
     ]
    },
    {
     "name": "stderr",
     "output_type": "stream",
     "text": [
      "ERROR: pip's dependency resolver does not currently take into account all the packages that are installed. This behaviour is the source of the following dependency conflicts.\n",
      "neupy 0.8.2 requires tensorflow<1.14.0,>=1.10.1, but you have tensorflow 1.15.0 which is incompatible.\n"
     ]
    }
   ],
   "source": [
    "!pip install tensorflow==1.15"
   ]
  },
  {
   "cell_type": "code",
   "execution_count": 55,
   "metadata": {
    "scrolled": true
   },
   "outputs": [
    {
     "name": "stdout",
     "output_type": "stream",
     "text": [
      "Reading files\n"
     ]
    },
    {
     "name": "stderr",
     "output_type": "stream",
     "text": [
      "0it [00:00, ?it/s]\n"
     ]
    },
    {
     "name": "stdout",
     "output_type": "stream",
     "text": [
      "Writing training_data.npz\n"
     ]
    }
   ],
   "source": [
    "%run encode.py training_data.txt training_data.npz"
   ]
  },
  {
   "cell_type": "code",
   "execution_count": 56,
   "metadata": {},
   "outputs": [
    {
     "ename": "SyntaxError",
     "evalue": "invalid syntax (<ipython-input-56-12309adb77ec>, line 1)",
     "output_type": "error",
     "traceback": [
      "\u001b[1;36m  File \u001b[1;32m\"<ipython-input-56-12309adb77ec>\"\u001b[1;36m, line \u001b[1;32m1\u001b[0m\n\u001b[1;33m    mpirun -np 4 -H localhost:4 -bind-to none -map-by slot -x NCCL_DEBUG=INFO -x LD_LIBRARY_PATH -x PATH -x PYTHONPATH=src -mca pml ob1 -mca btl ^openib train-horovod.py --dataset training_data.npz\u001b[0m\n\u001b[1;37m               ^\u001b[0m\n\u001b[1;31mSyntaxError\u001b[0m\u001b[1;31m:\u001b[0m invalid syntax\n"
     ]
    }
   ],
   "source": [
    "mpirun -np 4 -H localhost:4 -bind-to none -map-by slot -x NCCL_DEBUG=INFO -x LD_LIBRARY_PATH -x PATH -x PYTHONPATH=src -mca pml ob1 -mca btl ^openib train-horovod.py --dataset training_data.npz"
   ]
  },
  {
   "cell_type": "code",
   "execution_count": 57,
   "metadata": {},
   "outputs": [
    {
     "ename": "ModuleNotFoundError",
     "evalue": "No module named 'horovod'",
     "output_type": "error",
     "traceback": [
      "\u001b[1;31m---------------------------------------------------------------------------\u001b[0m",
      "\u001b[1;31mModuleNotFoundError\u001b[0m                       Traceback (most recent call last)",
      "\u001b[1;32m~\\Documents\\GitHub\\shelGPT-2\\train-horovod.py\u001b[0m in \u001b[0;36m<module>\u001b[1;34m\u001b[0m\n\u001b[0;32m     11\u001b[0m \u001b[1;32mimport\u001b[0m \u001b[0mtime\u001b[0m\u001b[1;33m\u001b[0m\u001b[1;33m\u001b[0m\u001b[0m\n\u001b[0;32m     12\u001b[0m \u001b[1;33m\u001b[0m\u001b[0m\n\u001b[1;32m---> 13\u001b[1;33m \u001b[1;32mimport\u001b[0m \u001b[0mhorovod\u001b[0m\u001b[1;33m.\u001b[0m\u001b[0mtensorflow\u001b[0m \u001b[1;32mas\u001b[0m \u001b[0mhvd\u001b[0m\u001b[1;33m\u001b[0m\u001b[1;33m\u001b[0m\u001b[0m\n\u001b[0m\u001b[0;32m     14\u001b[0m \u001b[1;33m\u001b[0m\u001b[0m\n\u001b[0;32m     15\u001b[0m \u001b[1;32mimport\u001b[0m \u001b[0mmodel\u001b[0m\u001b[1;33m,\u001b[0m \u001b[0msample\u001b[0m\u001b[1;33m,\u001b[0m \u001b[0mencoder\u001b[0m\u001b[1;33m\u001b[0m\u001b[1;33m\u001b[0m\u001b[0m\n",
      "\u001b[1;31mModuleNotFoundError\u001b[0m: No module named 'horovod'"
     ]
    }
   ],
   "source": [
    "%run train-horovod.py --dataset training_data.npz --model_name 345M --sample_every 50"
   ]
  },
  {
   "cell_type": "code",
   "execution_count": null,
   "metadata": {},
   "outputs": [],
   "source": []
  }
 ],
 "metadata": {
  "kernelspec": {
   "display_name": "Python 3",
   "language": "python",
   "name": "python3"
  },
  "language_info": {
   "codemirror_mode": {
    "name": "ipython",
    "version": 3
   },
   "file_extension": ".py",
   "mimetype": "text/x-python",
   "name": "python",
   "nbconvert_exporter": "python",
   "pygments_lexer": "ipython3",
   "version": "3.7.6"
  }
 },
 "nbformat": 4,
 "nbformat_minor": 4
}
